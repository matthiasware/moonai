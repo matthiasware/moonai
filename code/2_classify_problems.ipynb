{
 "cells": [
  {
   "cell_type": "code",
   "execution_count": null,
   "id": "a6355635",
   "metadata": {},
   "outputs": [],
   "source": [
    "%load_ext autoreload\n",
    "%autoreload 2"
   ]
  },
  {
   "cell_type": "code",
   "execution_count": null,
   "id": "5f79fe8c",
   "metadata": {},
   "outputs": [],
   "source": [
    "from pathlib import Path\n",
    "from collections import Counter\n",
    "#\n",
    "import numpy as np\n",
    "import matplotlib.pyplot as plt\n",
    "from sklearn.linear_model import LogisticRegression\n",
    "from sklearn.neighbors import KNeighborsClassifier\n",
    "import torch\n",
    "import torch.nn as nn\n",
    "#\n",
    "from problems import get_problems, filter_problems, filter_problems_ge\n",
    "from metrics import *\n",
    "from utils import coords_map, grade_maps, get_board_setup, draw_moves, plot_mat, count_parameters, x_coords, y_coords, draw_coords"
   ]
  },
  {
   "cell_type": "code",
   "execution_count": null,
   "id": "3462bf16",
   "metadata": {},
   "outputs": [],
   "source": [
    "P_ROOT = Path(\"../data\")\n",
    "P_PROB = P_ROOT / \"problems\"\n",
    "P_BOARD = P_ROOT / \"boards/moonboard.png\"\n",
    "P_HOLDS = P_ROOT / \"boards/holds\"\n",
    "setup_year = 2017\n",
    "setup_angle = 45\n",
    "#\n",
    "#repsge = 10\n",
    "minlen = 5\n",
    "maxlen = 12\n",
    "grade_names = [\"6A+\", \"6B\", \"6B+\", \"6C\", \"6C+\", \"7A\", \"7A+\", \"7B\", \"7B+\", \"7C\", \"7C+\", \"8A\"]\n",
    "grade_rep_ge = {\n",
    "    \"6A+\": 5,\n",
    "    \"6B\":  5,\n",
    "    \"6B+\": 5,\n",
    "    \"6C\":  5,\n",
    "    \"6C+\": 3,\n",
    "    \"7A\":3,\n",
    "    \"7A+\":2,\n",
    "    \"7B\": 2,\n",
    "    \"7B+\": 1,\n",
    "    \"7C\": 1,\n",
    "    \"7C+\": 1,\n",
    "    \"8A\": 1,\n",
    "    \"8A+\": 1,\n",
    "}"
   ]
  },
  {
   "cell_type": "code",
   "execution_count": null,
   "id": "61f22756",
   "metadata": {},
   "outputs": [],
   "source": [
    "probs = get_problems(P_PROB, setup_year, setup_angle)\n",
    "print(len(probs))\n",
    "\n",
    "probs = filter_problems_ge(probs, grade_rep_ge, grade_names, minlen, maxlen)\n",
    "print(len(probs))\n",
    "\n",
    "\n",
    "grade_to_num, num_to_grade = grade_maps(grade_names)"
   ]
  },
  {
   "cell_type": "code",
   "execution_count": null,
   "id": "dde4779a",
   "metadata": {},
   "outputs": [],
   "source": [
    "def extract_grades(probs, fromUser=False):\n",
    "    grades = []\n",
    "    for p in probs:\n",
    "        if p[\"userGrade\"] is not None:\n",
    "            grades.append(p[\"userGrade\"])\n",
    "        else:\n",
    "            grades.append(p[\"grade\"])\n",
    "    return grades"
   ]
  },
  {
   "cell_type": "code",
   "execution_count": null,
   "id": "83d81bab",
   "metadata": {},
   "outputs": [],
   "source": [
    "grades, nprobs = zip(*Counter(sorted([grade_to_num[p[\"grade\"]] for p in probs])).items())\n",
    "nprobs = np.array(nprobs)\n",
    "grade_freqs =  nprobs / nprobs.sum()\n",
    "class_weights = nprobs.sum() / nprobs\n",
    "\n",
    "fig, axes = plt.subplots(1, 1, figsize=(16, 8))\n",
    "plt.bar(grades, nprobs)\n",
    "plt.ylabel(\"#probs\")\n",
    "plt.xlabel(\"#grades\")\n",
    "plt.xticks(grades, [num_to_grade[n] for n in grades])\n",
    "plt.show()"
   ]
  },
  {
   "cell_type": "markdown",
   "id": "7dbff3b2",
   "metadata": {},
   "source": [
    "# Create Data Matrices"
   ]
  },
  {
   "cell_type": "code",
   "execution_count": null,
   "id": "e9ca5f4b",
   "metadata": {},
   "outputs": [],
   "source": [
    "X = np.zeros((len(probs), len(coords_map)))\n",
    "Y = []\n",
    "for prob_idx, prob in enumerate(probs):\n",
    "    moves = prob[\"moves\"]\n",
    "    for move in moves:\n",
    "        hold_idx = coords_map[move[\"description\"].upper()]\n",
    "        X[prob_idx, hold_idx] = 1\n",
    "    Y.append(grade_to_num[prob[\"grade\"]])\n",
    "Y = np.array(Y)"
   ]
  },
  {
   "cell_type": "code",
   "execution_count": null,
   "id": "294e9214",
   "metadata": {},
   "outputs": [],
   "source": [
    "r_train = 0.80\n",
    "n_train = int(r_train * len(probs))\n",
    "#\n",
    "idcs = np.arange(len(probs))\n",
    "for _ in range(10):\n",
    "    np.random.shuffle(idcs)\n",
    "idcs_train = idcs[:n_train]\n",
    "idcs_valid = idcs[n_train:]\n",
    "\n",
    "X_train = X[idcs_train]\n",
    "Y_train = Y[idcs_train]\n",
    "\n",
    "X_valid = X[idcs_valid]\n",
    "Y_valid = Y[idcs_valid]"
   ]
  },
  {
   "cell_type": "code",
   "execution_count": null,
   "id": "6588517e",
   "metadata": {},
   "outputs": [],
   "source": [
    "X_train.shape, Y_train.shape, X_valid.shape, Y_valid.shape"
   ]
  },
  {
   "cell_type": "markdown",
   "id": "5c458edf",
   "metadata": {},
   "source": [
    "# LR"
   ]
  },
  {
   "cell_type": "code",
   "execution_count": null,
   "id": "39b9b8cc",
   "metadata": {},
   "outputs": [],
   "source": [
    "clf = LogisticRegression(random_state=0, max_iter=1000, solver=\"newton-cg\", class_weight=\"balanced\")\n",
    "clf.fit(X_train, Y_train)\n",
    "#\n",
    "acc_train = clf.score(X_train, Y_train)\n",
    "acc_valid = clf.score(X_valid, Y_valid)\n",
    "#\n",
    "print(acc_train, acc_valid)\n",
    "#\n",
    "Y_valid_pred = clf.predict(X_valid)\n",
    "Y_train_pred = clf.predict(X_train)"
   ]
  },
  {
   "cell_type": "code",
   "execution_count": null,
   "id": "6b1f86cd",
   "metadata": {},
   "outputs": [],
   "source": [
    "y_true = Y_valid\n",
    "y_pred = Y_valid_pred\n",
    "for tol in range(2):\n",
    "    rep = soft_classification_report(y_true, y_pred, tol, target_names=grade_names, digits=3)\n",
    "    print(rep)"
   ]
  },
  {
   "cell_type": "markdown",
   "id": "5633b4ca",
   "metadata": {},
   "source": [
    "# KNN"
   ]
  },
  {
   "cell_type": "code",
   "execution_count": null,
   "id": "fb4d7a51",
   "metadata": {},
   "outputs": [],
   "source": [
    "clf = KNeighborsClassifier(n_neighbors=5, weights=\"distance\")\n",
    "clf.fit(X_train, Y_train)\n",
    "#\n",
    "acc_train = clf.score(X_train, Y_train)\n",
    "acc_valid = clf.score(X_valid, Y_valid)\n",
    "#\n",
    "print(acc_train, acc_valid)\n",
    "#\n",
    "Y_valid_pred = clf.predict(X_valid)\n",
    "Y_train_pred = clf.predict(X_train)"
   ]
  },
  {
   "cell_type": "code",
   "execution_count": null,
   "id": "db8f4a74",
   "metadata": {},
   "outputs": [],
   "source": [
    "y_true = Y_valid\n",
    "y_pred = Y_valid_pred\n",
    "for tol in range(2):\n",
    "    rep = soft_classification_report(y_true, y_pred, tol, target_names=grade_names, digits=3)\n",
    "    print(rep)"
   ]
  },
  {
   "cell_type": "markdown",
   "id": "e0e4c03e",
   "metadata": {},
   "source": [
    "# MLP Classifier"
   ]
  },
  {
   "cell_type": "code",
   "execution_count": null,
   "id": "15c0d90a",
   "metadata": {},
   "outputs": [],
   "source": [
    "from sklearn.neural_network import MLPClassifier"
   ]
  },
  {
   "cell_type": "code",
   "execution_count": null,
   "id": "9543fa71",
   "metadata": {},
   "outputs": [],
   "source": [
    "clf = MLPClassifier()\n",
    "clf.fit(X_train, Y_train)\n",
    "#\n",
    "acc_train = clf.score(X_train, Y_train)\n",
    "acc_valid = clf.score(X_valid, Y_valid)\n",
    "#\n",
    "print(acc_train, acc_valid)\n",
    "#\n",
    "Y_valid_pred = clf.predict(X_valid)\n",
    "Y_train_pred = clf.predict(X_train)"
   ]
  },
  {
   "cell_type": "code",
   "execution_count": null,
   "id": "b6682306",
   "metadata": {},
   "outputs": [],
   "source": [
    "y_true = Y_valid\n",
    "y_pred = Y_valid_pred\n",
    "for tol in range(2):\n",
    "    rep = soft_classification_report(y_true, y_pred, tol, target_names=grade_names, digits=3)\n",
    "    print(rep)"
   ]
  },
  {
   "cell_type": "markdown",
   "id": "01648bd9",
   "metadata": {},
   "source": [
    "# Decision Trees"
   ]
  },
  {
   "cell_type": "code",
   "execution_count": null,
   "id": "b0f2d80c",
   "metadata": {},
   "outputs": [],
   "source": [
    "from sklearn.tree import DecisionTreeClassifier"
   ]
  },
  {
   "cell_type": "code",
   "execution_count": null,
   "id": "3f536664",
   "metadata": {},
   "outputs": [],
   "source": [
    "clf = DecisionTreeClassifier()\n",
    "clf.fit(X_train, Y_train)\n",
    "#\n",
    "acc_train = clf.score(X_train, Y_train)\n",
    "acc_valid = clf.score(X_valid, Y_valid)\n",
    "#\n",
    "print(acc_train, acc_valid)\n",
    "#\n",
    "Y_valid_pred = clf.predict(X_valid)\n",
    "Y_train_pred = clf.predict(X_train)"
   ]
  },
  {
   "cell_type": "code",
   "execution_count": null,
   "id": "307960f9",
   "metadata": {},
   "outputs": [],
   "source": [
    "y_true = Y_valid\n",
    "y_pred = Y_valid_pred\n",
    "for tol in range(2):\n",
    "    rep = soft_classification_report(y_true, y_pred, tol, target_names=grade_names, digits=3)\n",
    "    print(rep)"
   ]
  },
  {
   "cell_type": "markdown",
   "id": "51675bc2",
   "metadata": {},
   "source": [
    "# TORCH LR"
   ]
  },
  {
   "cell_type": "code",
   "execution_count": null,
   "id": "7766e47b",
   "metadata": {},
   "outputs": [],
   "source": [
    "X_train_np = np.copy(X_train)\n",
    "Y_train_np = np.copy(Y_train)\n",
    "X_valid_np = np.copy(X_valid)\n",
    "Y_valid_np = np.copy(Y_valid)"
   ]
  },
  {
   "cell_type": "code",
   "execution_count": null,
   "id": "95dd42d8",
   "metadata": {},
   "outputs": [],
   "source": [
    "X_train = torch.Tensor(X_train_np) * 2 - 1\n",
    "Y_train = torch.Tensor(Y_train_np)\n",
    "#\n",
    "X_valid = torch.Tensor(X_valid_np) * 2 - 1\n",
    "Y_valid = torch.Tensor(Y_valid_np)"
   ]
  },
  {
   "cell_type": "code",
   "execution_count": null,
   "id": "52cf3252",
   "metadata": {},
   "outputs": [],
   "source": [
    "def count_parameters(model):\n",
    "    return sum(p.numel() for p in model.parameters() if p.requires_grad)\n",
    "\n",
    "class MoonModel(torch.nn.Module):\n",
    "    def __init__(self, input_dim, output_dim):\n",
    "        super().__init__()\n",
    "        self.net = nn.Sequential(\n",
    "            nn.Linear(input_dim, 256),\n",
    "            nn.BatchNorm1d(256),\n",
    "            nn.ReLU(),\n",
    "            nn.Linear(256, 256),\n",
    "            nn.BatchNorm1d(256),\n",
    "            nn.ReLU(),\n",
    "            nn.Linear(256, output_dim),\n",
    "            #nn.Softmax(dim=-1)\n",
    "        )\n",
    "    def forward(self, x):\n",
    "        x = self.net(x)\n",
    "        return x"
   ]
  },
  {
   "cell_type": "code",
   "execution_count": null,
   "id": "a1145245",
   "metadata": {},
   "outputs": [],
   "source": [
    "model = MoonModel(input_dim=X.shape[1], output_dim=len(grades))\n",
    "print(count_parameters(model))\n",
    "model"
   ]
  },
  {
   "cell_type": "code",
   "execution_count": null,
   "id": "f9b29cfd",
   "metadata": {},
   "outputs": [],
   "source": [
    "device = \"cuda:0\"\n",
    "model = model.to(device)\n",
    "#\n",
    "optimizer = torch.optim.Adam(model.parameters(), lr=1e-3, weight_decay=1e-6)\n",
    "loss_fn = torch.nn.CrossEntropyLoss(weight=torch.Tensor(class_weights).to(device))\n",
    "#\n",
    "x = X_train.to(device)\n",
    "y = Y_train.to(device).long()\n",
    "for epoch_idx in range(600):\n",
    "    #\n",
    "    optimizer.zero_grad()\n",
    "    out = model.forward(x)\n",
    "    loss = loss_fn(out, y) \n",
    "    loss.backward()\n",
    "    optimizer.step()\n",
    "    if epoch_idx % 100 == 0:\n",
    "        with torch.no_grad():\n",
    "            Y_train_pred = model(X_train.to(device)).cpu()\n",
    "            Y_valid_pred = model(X_valid.to(device)).cpu()\n",
    "        Y_train_pred = Y_train_pred.argmax(dim=-1)\n",
    "        Y_valid_pred = Y_valid_pred.argmax(dim=-1)\n",
    "        acc_train = (Y_train_pred == Y_train).sum() / Y_train.shape[0]\n",
    "        acc_valid = (Y_valid_pred == Y_valid).sum() / Y_valid.shape[0]\n",
    "        print(\"{:.4f} acc_train: {:.3f} acc_valid: {:.3f}\".format(loss.item(), acc_train.item(), acc_valid.item()))"
   ]
  },
  {
   "cell_type": "code",
   "execution_count": null,
   "id": "a02bbb68",
   "metadata": {},
   "outputs": [],
   "source": [
    "with torch.no_grad():\n",
    "    Y_train_pred = model(X_train.to(device)).cpu()\n",
    "    Y_valid_pred = model(X_valid.to(device)).cpu()\n",
    "Y_train_pred = Y_train_pred.argmax(dim=-1)\n",
    "Y_valid_pred = Y_valid_pred.argmax(dim=-1)\n",
    "Y_train = Y_train.numpy()\n",
    "Y_valid = Y_valid.numpy()\n",
    "Y_train_pred = Y_train_pred.numpy()\n",
    "Y_valid_pred = Y_valid_pred.numpy()"
   ]
  },
  {
   "cell_type": "code",
   "execution_count": null,
   "id": "d82af407",
   "metadata": {},
   "outputs": [],
   "source": [
    "y_true = Y_valid\n",
    "y_pred = Y_valid_pred\n",
    "for tol in range(2):\n",
    "    rep = soft_classification_report(y_true, y_pred, tol, target_names=grade_names, digits=3)\n",
    "    print(rep)"
   ]
  }
 ],
 "metadata": {
  "kernelspec": {
   "display_name": "Python 3 (ipykernel)",
   "language": "python",
   "name": "python3"
  },
  "language_info": {
   "codemirror_mode": {
    "name": "ipython",
    "version": 3
   },
   "file_extension": ".py",
   "mimetype": "text/x-python",
   "name": "python",
   "nbconvert_exporter": "python",
   "pygments_lexer": "ipython3",
   "version": "3.8.13"
  },
  "latex_envs": {
   "LaTeX_envs_menu_present": true,
   "autoclose": false,
   "autocomplete": true,
   "bibliofile": "biblio.bib",
   "cite_by": "apalike",
   "current_citInitial": 1,
   "eqLabelWithNumbers": true,
   "eqNumInitial": 1,
   "hotkeys": {
    "equation": "Ctrl-E",
    "itemize": "Ctrl-I"
   },
   "labels_anchors": false,
   "latex_user_defs": false,
   "report_style_numbering": false,
   "user_envs_cfg": false
  }
 },
 "nbformat": 4,
 "nbformat_minor": 5
}
