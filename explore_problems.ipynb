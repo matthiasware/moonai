{
 "cells": [
  {
   "cell_type": "code",
   "execution_count": null,
   "id": "6da16c05",
   "metadata": {},
   "outputs": [],
   "source": [
    "%load_ext autoreload\n",
    "%autoreload 2"
   ]
  },
  {
   "cell_type": "code",
   "execution_count": null,
   "id": "c1346445",
   "metadata": {},
   "outputs": [],
   "source": [
    "import json\n",
    "from pathlib import Path\n",
    "import matplotlib.pyplot as plt\n",
    "import numpy as np\n",
    "from collections import Counter\n",
    "from problems import get_problems\n",
    "from utils import get_board_setup, draw_moves, plot_mat\n",
    "%matplotlib inline\n",
    "#matplotlib qt "
   ]
  },
  {
   "cell_type": "code",
   "execution_count": null,
   "id": "dda80cd4",
   "metadata": {},
   "outputs": [],
   "source": [
    "P_ROOT = Path(\"./data\")\n",
    "P_PROB = P_ROOT / \"problems\"\n",
    "P_BOARD = P_ROOT / \"boards/moonboard.png\"\n",
    "P_HOLDS = P_ROOT / \"boards/holds\"\n",
    "setup_year = 2017\n",
    "setup_angle = 45"
   ]
  },
  {
   "cell_type": "code",
   "execution_count": null,
   "id": "975c025a",
   "metadata": {},
   "outputs": [],
   "source": [
    "probs = get_problems(P_PROB, setup_year, setup_angle)\n",
    "probs = [p for p in probs if p[\"repeats\"] >= 1]"
   ]
  },
  {
   "cell_type": "code",
   "execution_count": null,
   "id": "c30a7868",
   "metadata": {},
   "outputs": [],
   "source": [
    "# repeats\n",
    "reps = [p[\"repeats\"] for p in probs if p[\"repeats\"] > 1]\n",
    "reps.sort()\n",
    "print(len(reps))\n",
    "print(len(set(reps)))"
   ]
  },
  {
   "cell_type": "code",
   "execution_count": null,
   "id": "8a503ac0",
   "metadata": {},
   "outputs": [],
   "source": [
    "reps, nprobs = zip(*Counter(reps).items())"
   ]
  },
  {
   "cell_type": "code",
   "execution_count": null,
   "id": "6bea98d6",
   "metadata": {},
   "outputs": [],
   "source": [
    "fig, axes = plt.subplots(1, 1, figsize=(16, 8))\n",
    "plt.bar(reps, nprobs)\n",
    "plt.yscale(\"log\")\n",
    "plt.ylabel(\"#probs\")\n",
    "plt.xlabel(\"#reps\")\n",
    "plt.xscale(\"log\")\n",
    "plt.show()"
   ]
  },
  {
   "cell_type": "code",
   "execution_count": null,
   "id": "47c74053",
   "metadata": {},
   "outputs": [],
   "source": [
    "GRADES = [\"6A\",\"6A+\", \"6B\", \"6B+\", \"6C\", \"6C+\", \"7A\", \"7A+\", \"7B\", \"7B+\", \"7C\", \"7C+\", \"8A\", \"8A+\", \"8B\", \"8B+\", \"8C\"]\n",
    "GRADE_TO_NUM = {g:i for i,g in enumerate(GRADES)}\n",
    "NUM_TO_GRADE = {i:g for g,i in GRADE_TO_NUM.items()}"
   ]
  },
  {
   "cell_type": "code",
   "execution_count": null,
   "id": "b854b3f6",
   "metadata": {},
   "outputs": [],
   "source": [
    "grades = [GRADE_TO_NUM[p[\"grade\"]] for p in probs]\n",
    "grades.sort()\n",
    "#\n",
    "grades, nprobs = zip(*Counter(grades).items())\n"
   ]
  },
  {
   "cell_type": "code",
   "execution_count": null,
   "id": "3e1d5afd",
   "metadata": {},
   "outputs": [],
   "source": [
    "fig, axes = plt.subplots(1, 1, figsize=(16, 8))\n",
    "plt.bar(grades, nprobs)\n",
    "#plt.yscale(\"log\")\n",
    "plt.ylabel(\"#probs\")\n",
    "plt.xlabel(\"#grades\")\n",
    "plt.xticks(grades, [NUM_TO_GRADE[n] for n in grades])\n",
    "plt.show()"
   ]
  },
  {
   "cell_type": "code",
   "execution_count": null,
   "id": "e33e7fe2",
   "metadata": {},
   "outputs": [],
   "source": [
    "GRADE_TO_REPEATS = {g: 0 for g in GRADES}"
   ]
  },
  {
   "cell_type": "code",
   "execution_count": null,
   "id": "a9e04aa9",
   "metadata": {},
   "outputs": [],
   "source": [
    "GRADE_TO_REPEATS = {g: 0 for g in GRADES}\n",
    "for p in probs:\n",
    "    GRADE_TO_REPEATS[p[\"grade\"]] += p[\"repeats\"]"
   ]
  },
  {
   "cell_type": "code",
   "execution_count": null,
   "id": "d357a207",
   "metadata": {},
   "outputs": [],
   "source": [
    "keys, vals = zip(*GRADE_TO_REPEATS.items())"
   ]
  },
  {
   "cell_type": "code",
   "execution_count": null,
   "id": "d853415c",
   "metadata": {},
   "outputs": [],
   "source": [
    "fig, axes = plt.subplots(1, 1, figsize=(16, 8))\n",
    "plt.bar(keys,vals)"
   ]
  },
  {
   "cell_type": "markdown",
   "id": "8bf22f18",
   "metadata": {},
   "source": [
    "# Show Holds on Moonboard"
   ]
  },
  {
   "cell_type": "code",
   "execution_count": null,
   "id": "43567076",
   "metadata": {},
   "outputs": [],
   "source": [
    "\n",
    "board = get_board_setup(P_BOARD, P_HOLDS, setup_year)\n",
    "board"
   ]
  },
  {
   "cell_type": "markdown",
   "id": "9f00a9d2",
   "metadata": {},
   "source": [
    "# Get problem"
   ]
  },
  {
   "cell_type": "code",
   "execution_count": null,
   "id": "60585cae",
   "metadata": {},
   "outputs": [],
   "source": [
    "prob_board = draw_moves(board, probs[2][\"moves\"])\n",
    "prob_board"
   ]
  },
  {
   "cell_type": "code",
   "execution_count": null,
   "id": "51c4154b",
   "metadata": {},
   "outputs": [],
   "source": [
    "ps = [p for p in probs if len(p[\"moves\"]) > 14]\n",
    "print(len(ps))"
   ]
  },
  {
   "cell_type": "code",
   "execution_count": null,
   "id": "b297ea5c",
   "metadata": {},
   "outputs": [],
   "source": [
    "for p in ps:\n",
    "    prob_board = draw_moves(board, p[\"moves\"])\n",
    "    prob_board.show()"
   ]
  },
  {
   "cell_type": "markdown",
   "id": "e7fb5916",
   "metadata": {},
   "source": [
    "# heatmap"
   ]
  },
  {
   "cell_type": "code",
   "execution_count": null,
   "id": "d937538a",
   "metadata": {},
   "outputs": [],
   "source": [
    "hm = np.zeros((18, 11)).astype(np.int32)\n",
    "#\n",
    "x_coords = [\"A\", \"B\", \"C\", \"D\", \"E\", \"F\", \"G\", \"H\", \"I\", \"J\", \"K\"]\n",
    "x_coord_map = {x: idx for idx, x in enumerate(x_coords)}\n",
    "\n",
    "y_coords = [str(i) for i in range(1, 19)][::-1]\n",
    "y_coord_map = {y: idx for idx,y in enumerate(y_coords)}"
   ]
  },
  {
   "cell_type": "code",
   "execution_count": null,
   "id": "1c6bc804",
   "metadata": {},
   "outputs": [],
   "source": [
    "for prob in probs:\n",
    "    for move in prob[\"moves\"]:\n",
    "        pos = move[\"description\"]\n",
    "        px = x_coord_map[pos[:1]]\n",
    "        py = y_coord_map[pos[1:]]\n",
    " board = get_board_setup(P_BOARD, P_HOLDS, setup_year)\n",
    "prob_board = draw_coords(board, boulder_new)\n",
    "prob_board       hm[py, px] += 1"
   ]
  },
  {
   "cell_type": "code",
   "execution_count": null,
   "id": "e84681d5",
   "metadata": {},
   "outputs": [],
   "source": [
    "hm.min(), hm.max(), hm.mean(), np.median(hm)"
   ]
  },
  {
   "cell_type": "code",
   "execution_count": null,
   "id": "6f8917c5",
   "metadata": {},
   "outputs": [],
   "source": [
    "plot_mat(hm, scale_factor=1, cmap=\"viridis\", lab_format=\"{:d}\",\n",
    "             row_names=y_coords, col_names=x_coords)"
   ]
  },
  {
   "cell_type": "code",
   "execution_count": null,
   "id": "eb4c1621",
   "metadata": {},
   "outputs": [],
   "source": [
    "GRADES = [\"6A+\", \"6B\", \"6B+\", \"6C\", \"6C+\", \"7A\", \"7A+\", \"7B\", \"7B+\", \"7C\", \"7C+\", \"8A\", \"8A+\", \"8B\", \"8B+\"]"
   ]
  },
  {
   "cell_type": "code",
   "execution_count": null,
   "id": "fbb87bbf",
   "metadata": {},
   "outputs": [],
   "source": [
    "HMS = []\n",
    "for grade in GRADES:\n",
    "    hm = np.zeros((18, 11)).astype(np.int32)\n",
    "    for prob in probs:\n",
    "        if prob[\"grade\"] != grade:\n",
    "            continue\n",
    "        for move in prob[\"moves\"]:\n",
    "            pos = move[\"description\"]\n",
    "            px = x_coord_map[pos[:1]]\n",
    "            py = y_coord_map[pos[1:]]\n",
    "            hm[py, px] += 1\n",
    "    HMS.append(hm)"
   ]
  },
  {
   "cell_type": "code",
   "execution_count": null,
   "id": "db217b4d",
   "metadata": {
    "scrolled": false
   },
   "outputs": [],
   "source": [
    "for hm, grade in zip(HMS, GRADES):\n",
    "    plot_mat(hm, scale_factor=1, cmap=\"viridis\", lab_format=\"{:d}\", title=grade,\n",
    "             row_names=y_coords, col_names=x_coords)\n",
    "    print(hm.min(), hm.max(), hm.mean(), np.median(hm))"
   ]
  },
  {
   "cell_type": "markdown",
   "id": "a4c6a496",
   "metadata": {},
   "source": [
    "# MOVES"
   ]
  },
  {
   "cell_type": "code",
   "execution_count": null,
   "id": "61f7e325",
   "metadata": {},
   "outputs": [],
   "source": [
    "lengths = [len(p[\"moves\"]) for p in probs]"
   ]
  },
  {
   "cell_type": "code",
   "execution_count": null,
   "id": "45ca6d88",
   "metadata": {},
   "outputs": [],
   "source": [
    "lengths"
   ]
  },
  {
   "cell_type": "code",
   "execution_count": null,
   "id": "b8f0f726",
   "metadata": {},
   "outputs": [],
   "source": [
    "min(lengths)"
   ]
  },
  {
   "cell_type": "code",
   "execution_count": null,
   "id": "9539b128",
   "metadata": {},
   "outputs": [],
   "source": [
    "max(lengths)"
   ]
  },
  {
   "cell_type": "code",
   "execution_count": null,
   "id": "291ce8ed",
   "metadata": {},
   "outputs": [],
   "source": [
    "ls, ns = zip(*Counter(lengths).items())"
   ]
  },
  {
   "cell_type": "code",
   "execution_count": null,
   "id": "68f1246b",
   "metadata": {},
   "outputs": [],
   "source": [
    "fig, axes = plt.subplots(1, 1, figsize=(16, 8))\n",
    "plt.bar(ls, ns)\n",
    "plt.xticks(ls)"
   ]
  },
  {
   "cell_type": "code",
   "execution_count": null,
   "id": "52d6fdb7",
   "metadata": {},
   "outputs": [],
   "source": [
    "ps = [p for p in probs if len(p[\"moves\"]) == 13]\n",
    "len(ps)"
   ]
  },
  {
   "cell_type": "code",
   "execution_count": null,
   "id": "84581973",
   "metadata": {},
   "outputs": [],
   "source": [
    "p"
   ]
  },
  {
   "cell_type": "code",
   "execution_count": null,
   "id": "35964c39",
   "metadata": {
    "scrolled": true
   },
   "outputs": [],
   "source": [
    "for idx in range(100):\n",
    "    p = ps[idx]\n",
    "    prob_board = draw_moves(board, p[\"moves\"])\n",
    "    print(p[\"grade\"], p[\"repeats\"], p[\"isBenchmark\"], p[\"userGrade\"])\n",
    "    plt.figure(figsize=(5,9))\n",
    "    plt.imshow(np.array(prob_board))\n",
    "    plt.show()"
   ]
  },
  {
   "cell_type": "code",
   "execution_count": null,
   "id": "8cd66722",
   "metadata": {},
   "outputs": [],
   "source": []
  }
 ],
 "metadata": {
  "kernelspec": {
   "display_name": "Python 3 (ipykernel)",
   "language": "python",
   "name": "python3"
  },
  "language_info": {
   "codemirror_mode": {
    "name": "ipython",
    "version": 3
   },
   "file_extension": ".py",
   "mimetype": "text/x-python",
   "name": "python",
   "nbconvert_exporter": "python",
   "pygments_lexer": "ipython3",
   "version": "3.8.12"
  },
  "latex_envs": {
   "LaTeX_envs_menu_present": true,
   "autoclose": false,
   "autocomplete": true,
   "bibliofile": "biblio.bib",
   "cite_by": "apalike",
   "current_citInitial": 1,
   "eqLabelWithNumbers": true,
   "eqNumInitial": 1,
   "hotkeys": {
    "equation": "Ctrl-E",
    "itemize": "Ctrl-I"
   },
   "labels_anchors": false,
   "latex_user_defs": false,
   "report_style_numbering": false,
   "user_envs_cfg": false
  }
 },
 "nbformat": 4,
 "nbformat_minor": 5
}
